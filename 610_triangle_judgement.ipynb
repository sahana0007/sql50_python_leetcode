{
  "nbformat": 4,
  "nbformat_minor": 0,
  "metadata": {
    "colab": {
      "provenance": [],
      "authorship_tag": "ABX9TyPl8JTeruwfNUkBDItDlrFG",
      "include_colab_link": true
    },
    "kernelspec": {
      "name": "python3",
      "display_name": "Python 3"
    },
    "language_info": {
      "name": "python"
    }
  },
  "cells": [
    {
      "cell_type": "markdown",
      "metadata": {
        "id": "view-in-github",
        "colab_type": "text"
      },
      "source": [
        "<a href=\"https://colab.research.google.com/github/sahana0007/sql50_python_leetcode/blob/main/610_triangle_judgement.ipynb\" target=\"_parent\"><img src=\"https://colab.research.google.com/assets/colab-badge.svg\" alt=\"Open In Colab\"/></a>"
      ]
    },
    {
      "cell_type": "code",
      "execution_count": 1,
      "metadata": {
        "colab": {
          "base_uri": "https://localhost:8080/"
        },
        "id": "YV8DzZ0TU1Lj",
        "outputId": "725c0f34-977b-4562-f7cf-9cacc0c986e8"
      },
      "outputs": [
        {
          "output_type": "stream",
          "name": "stdout",
          "text": [
            "   x  y   z triangle\n",
            "0  3  4   5      Yes\n",
            "1  4  5   6      Yes\n",
            "2  5  7  10      Yes\n",
            "3  2  5   8       No\n"
          ]
        }
      ],
      "source": [
        "import pandas as pd\n",
        "\n",
        "def triangle_judgement(triangle: pd.DataFrame) -> pd.DataFrame:\n",
        "    triangle['triangle'] = triangle.apply(lambda row: 'Yes' if row['x'] + row['y'] > row['z'] and row['x'] + row['z'] > row['y'] and row['y'] + row['z'] > row['x'] else 'No', axis=1)\n",
        "    return triangle\n",
        "\n",
        "# Example usage\n",
        "data = {'x': [3, 4, 5, 2],\n",
        "        'y': [4, 5, 7, 5],\n",
        "        'z': [5, 6, 10, 8]}\n",
        "df = pd.DataFrame(data)\n",
        "\n",
        "valid_triangles_df = triangle_judgement(df)\n",
        "print(valid_triangles_df)\n"
      ]
    }
  ]
}
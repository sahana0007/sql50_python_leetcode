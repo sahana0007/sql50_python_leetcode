{
  "nbformat": 4,
  "nbformat_minor": 0,
  "metadata": {
    "colab": {
      "provenance": [],
      "mount_file_id": "1i9qUEmEcY3WyV5WAyTGeyZMlH--nqRbq",
      "authorship_tag": "ABX9TyOMIM6zW1Bx5o1YGrgjNvh5",
      "include_colab_link": true
    },
    "kernelspec": {
      "name": "python3",
      "display_name": "Python 3"
    },
    "language_info": {
      "name": "python"
    }
  },
  "cells": [
    {
      "cell_type": "markdown",
      "metadata": {
        "id": "view-in-github",
        "colab_type": "text"
      },
      "source": [
        "<a href=\"https://colab.research.google.com/github/sahana0007/sql50_python_leetcode/blob/main/PANDAS_1378.ipynb\" target=\"_parent\"><img src=\"https://colab.research.google.com/assets/colab-badge.svg\" alt=\"Open In Colab\"/></a>"
      ]
    },
    {
      "cell_type": "code",
      "execution_count": 1,
      "metadata": {
        "id": "YM3CC-7h6fAo",
        "colab": {
          "base_uri": "https://localhost:8080/"
        },
        "outputId": "1c9fa019-d086-4a8a-e6c8-cee2bc252d80"
      },
      "outputs": [
        {
          "output_type": "stream",
          "name": "stdout",
          "text": [
            "  unique_id     name\n",
            "0       NaN     John\n",
            "1    ABC123     Emma\n",
            "2       NaN  Michael\n",
            "3    XYZ789   Sophia\n",
            "4       NaN  William\n"
          ]
        }
      ],
      "source": [
        "import pandas as pd\n",
        "\n",
        "def replace_employee_id_with_the_unique_identifier(employees: pd.DataFrame, employee_uni: pd.DataFrame) -> pd.DataFrame:\n",
        "    # Perform the left join on 'id' column\n",
        "    result_df = employees.merge(employee_uni, on='id', how='left')\n",
        "\n",
        "    # Select 'unique_id' and 'name' columns\n",
        "    result_df = result_df[['unique_id', 'name']]\n",
        "\n",
        "    return result_df\n",
        "\n",
        "# Sample test data for the 'employees' DataFrame\n",
        "employees_data = {\n",
        "    'id': [1, 2, 3, 4, 5],\n",
        "    'name': ['John', 'Emma', 'Michael', 'Sophia', 'William']\n",
        "}\n",
        "\n",
        "employees_df = pd.DataFrame(employees_data)\n",
        "\n",
        "# Sample test data for the 'employee_uni' DataFrame\n",
        "employee_uni_data = {\n",
        "    'id': [2, 4],\n",
        "    'unique_id': ['ABC123', 'XYZ789']\n",
        "}\n",
        "\n",
        "employee_uni_df = pd.DataFrame(employee_uni_data)\n",
        "\n",
        "# Call the replace_employee_id_with_the_unique_identifier function with the sample test data\n",
        "result_df = replace_employee_id_with_the_unique_identifier(employees_df, employee_uni_df)\n",
        "\n",
        "# Print the resulting DataFrame after the left join\n",
        "print(result_df)\n"
      ]
    }
  ]
}
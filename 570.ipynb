{
  "nbformat": 4,
  "nbformat_minor": 0,
  "metadata": {
    "colab": {
      "provenance": [],
      "authorship_tag": "ABX9TyNWxnjuRqpwM0yZ0Z46HPqE",
      "include_colab_link": true
    },
    "kernelspec": {
      "name": "python3",
      "display_name": "Python 3"
    },
    "language_info": {
      "name": "python"
    }
  },
  "cells": [
    {
      "cell_type": "markdown",
      "metadata": {
        "id": "view-in-github",
        "colab_type": "text"
      },
      "source": [
        "<a href=\"https://colab.research.google.com/github/sahana0007/sql50_python_leetcode/blob/main/570.ipynb\" target=\"_parent\"><img src=\"https://colab.research.google.com/assets/colab-badge.svg\" alt=\"Open In Colab\"/></a>"
      ]
    },
    {
      "cell_type": "code",
      "execution_count": 1,
      "metadata": {
        "colab": {
          "base_uri": "https://localhost:8080/"
        },
        "id": "OEJmxqXA09bu",
        "outputId": "22521990-c71a-42a7-9c7a-5c3d83e13c13"
      },
      "outputs": [
        {
          "output_type": "stream",
          "name": "stdout",
          "text": [
            "Employees with Manager ID 4\n",
            "   id     name   department  managerId\n",
            "2   3  Charlie  Engineering          4\n",
            "3   4    David           HR          4\n",
            "\n",
            "Number of Employees in each Department\n",
            "HR             2\n",
            "Engineering    2\n",
            "Marketing      1\n",
            "Name: department, dtype: int64\n",
            "\n",
            "Employees without a Manager\n",
            "Empty DataFrame\n",
            "Columns: [id, name, department, managerId]\n",
            "Index: []\n",
            "\n",
            "Manager with the Most Direct Reports\n",
            "3\n",
            "\n",
            "Employees in the Engineering Department\n",
            "   id     name   department  managerId\n",
            "1   2      Bob  Engineering          3\n",
            "2   3  Charlie  Engineering          4\n"
          ]
        }
      ],
      "source": [
        "import pandas as pd\n",
        "\n",
        "# Sample data for the \"Employee\" table\n",
        "data = {\n",
        "    'id': [1, 2, 3, 4, 5],\n",
        "    'name': ['Alice', 'Bob', 'Charlie', 'David', 'Eva'],\n",
        "    'department': ['HR', 'Engineering', 'Engineering', 'HR', 'Marketing'],\n",
        "    'managerId': [3, 3, 4, 4, 3]\n",
        "}\n",
        "\n",
        "# Create the DataFrame\n",
        "employee_df = pd.DataFrame(data)\n",
        "\n",
        "# Task 1: Finding employees with a specific manager ID\n",
        "specific_manager_id = 4\n",
        "employees_with_specific_manager = employee_df[employee_df['managerId'] == specific_manager_id]\n",
        "print(\"Employees with Manager ID\", specific_manager_id)\n",
        "print(employees_with_specific_manager)\n",
        "\n",
        "# Task 2: Counting the number of employees in each department\n",
        "employees_per_department = employee_df['department'].value_counts()\n",
        "print(\"\\nNumber of Employees in each Department\")\n",
        "print(employees_per_department)\n",
        "\n",
        "# Task 3: Identifying employees without a manager (i.e., employees at the top of the hierarchy)\n",
        "employees_without_manager = employee_df[employee_df['managerId'].isnull()]\n",
        "print(\"\\nEmployees without a Manager\")\n",
        "print(employees_without_manager)\n",
        "\n",
        "# Task 4: Finding the manager with the most direct reports\n",
        "manager_with_most_reports = employee_df['managerId'].value_counts().idxmax()\n",
        "print(\"\\nManager with the Most Direct Reports\")\n",
        "print(manager_with_most_reports)\n",
        "\n",
        "# Task 5: Filtering employees based on certain conditions\n",
        "condition_column = 'department'\n",
        "condition_value = 'Engineering'\n",
        "filtered_employees = employee_df[employee_df[condition_column] == condition_value]\n",
        "print(\"\\nEmployees in the\", condition_value, \"Department\")\n",
        "print(filtered_employees)\n"
      ]
    }
  ]
}
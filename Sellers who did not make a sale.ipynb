{
 "cells": [
  {
   "cell_type": "code",
   "execution_count": 0,
   "metadata": {
    "application/vnd.databricks.v1+cell": {
     "cellMetadata": {
      "byteLimit": 2048000,
      "rowLimit": 10000
     },
     "inputWidgets": {},
     "nuid": "fda0f02a-0a5f-4620-a948-769050d631e9",
     "showTitle": false,
     "title": ""
    }
   },
   "outputs": [],
   "source": [
    "from pyspark.sql import SparkSession\n",
    "from pyspark.sql import Row\n",
    "\n",
    "# Initialize Spark session\n",
    "spark = SparkSession.builder.appName(\"data_insertion\").getOrCreate()\n",
    "\n",
    "# Sample data for the Customer table\n",
    "customer_data = [\n",
    "    Row(customer_id=101, customer_name=\"Alice\"),\n",
    "    Row(customer_id=102, customer_name=\"Bob\"),\n",
    "    Row(customer_id=103, customer_name=\"Charlie\"),\n",
    "]\n",
    "\n",
    "# Create a DataFrame for the Customer table\n",
    "customer_df = spark.createDataFrame(customer_data)\n",
    "\n",
    "# Register the DataFrame as a temporary table\n",
    "customer_df.createOrReplaceTempView(\"Customer\")\n",
    "\n",
    "# Sample data for the Orders table\n",
    "orders_data = [\n",
    "    Row(order_id=1, sale_date=\"2020-03-01\", order_cost=1500, customer_id=101, seller_id=1),\n",
    "    Row(order_id=2, sale_date=\"2020-05-25\", order_cost=2400, customer_id=102, seller_id=2),\n",
    "    Row(order_id=3, sale_date=\"2019-05-25\", order_cost=800, customer_id=101, seller_id=3),\n",
    "    Row(order_id=4, sale_date=\"2020-09-13\", order_cost=1000, customer_id=103, seller_id=2),\n",
    "    Row(order_id=5, sale_date=\"2019-02-11\", order_cost=700, customer_id=101, seller_id=2),\n",
    "]\n",
    "\n",
    "# Create a DataFrame for the Orders table\n",
    "orders_df = spark.createDataFrame(orders_data)\n",
    "\n",
    "# Register the DataFrame as a temporary table\n",
    "orders_df.createOrReplaceTempView(\"Orders\")\n",
    "\n",
    "# Sample data for the Seller table\n",
    "seller_data = [\n",
    "    Row(seller_id=1, seller_name=\"Daniel\"),\n",
    "    Row(seller_id=2, seller_name=\"Elizabeth\"),\n",
    "    Row(seller_id=3, seller_name=\"Frank\"),\n",
    "]\n",
    "\n",
    "# Create a DataFrame for the Seller table\n",
    "seller_df = spark.createDataFrame(seller_data)\n",
    "\n",
    "# Register the DataFrame as a temporary table\n",
    "seller_df.createOrReplaceTempView(\"Seller\")\n",
    "\n",
    "# Stop the Spark session\n",
    "#spark.stop()\n"
   ]
  },
  {
   "cell_type": "code",
   "execution_count": 0,
   "metadata": {
    "application/vnd.databricks.v1+cell": {
     "cellMetadata": {
      "byteLimit": 2048000,
      "rowLimit": 10000
     },
     "inputWidgets": {},
     "nuid": "77e9919d-8116-4e08-9cd1-5fe7a37dfa6e",
     "showTitle": false,
     "title": ""
    }
   },
   "outputs": [
    {
     "output_type": "display_data",
     "data": {
      "text/html": [
       "<style scoped>\n",
       "  .table-result-container {\n",
       "    max-height: 300px;\n",
       "    overflow: auto;\n",
       "  }\n",
       "  table, th, td {\n",
       "    border: 1px solid black;\n",
       "    border-collapse: collapse;\n",
       "  }\n",
       "  th, td {\n",
       "    padding: 5px;\n",
       "  }\n",
       "  th {\n",
       "    text-align: left;\n",
       "  }\n",
       "</style><div class='table-result-container'><table class='table-result'><thead style='background-color: white'><tr><th>customer_id</th><th>customer_name</th></tr></thead><tbody><tr><td>101</td><td>Alice</td></tr><tr><td>102</td><td>Bob</td></tr><tr><td>103</td><td>Charlie</td></tr></tbody></table></div>"
      ]
     },
     "metadata": {
      "application/vnd.databricks.v1+output": {
       "addedWidgets": {},
       "aggData": [],
       "aggError": "",
       "aggOverflow": false,
       "aggSchema": [],
       "aggSeriesLimitReached": false,
       "aggType": "",
       "arguments": {},
       "columnCustomDisplayInfos": {},
       "data": [
        [
         101,
         "Alice"
        ],
        [
         102,
         "Bob"
        ],
        [
         103,
         "Charlie"
        ]
       ],
       "datasetInfos": [],
       "dbfsResultPath": null,
       "isJsonSchema": true,
       "metadata": {},
       "overflow": false,
       "plotOptions": {
        "customPlotOptions": {},
        "displayType": "table",
        "pivotAggregation": null,
        "pivotColumns": null,
        "xColumns": null,
        "yColumns": null
       },
       "removedWidgets": [],
       "schema": [
        {
         "metadata": "{}",
         "name": "customer_id",
         "type": "\"long\""
        },
        {
         "metadata": "{}",
         "name": "customer_name",
         "type": "\"string\""
        }
       ],
       "type": "table"
      }
     },
     "output_type": "display_data"
    }
   ],
   "source": [
    "customer_df.display()"
   ]
  },
  {
   "cell_type": "code",
   "execution_count": 0,
   "metadata": {
    "application/vnd.databricks.v1+cell": {
     "cellMetadata": {
      "byteLimit": 2048000,
      "rowLimit": 10000
     },
     "inputWidgets": {},
     "nuid": "4a5004ff-91cc-4981-9a8d-a8de76d335ed",
     "showTitle": false,
     "title": ""
    }
   },
   "outputs": [
    {
     "output_type": "display_data",
     "data": {
      "text/html": [
       "<style scoped>\n",
       "  .table-result-container {\n",
       "    max-height: 300px;\n",
       "    overflow: auto;\n",
       "  }\n",
       "  table, th, td {\n",
       "    border: 1px solid black;\n",
       "    border-collapse: collapse;\n",
       "  }\n",
       "  th, td {\n",
       "    padding: 5px;\n",
       "  }\n",
       "  th {\n",
       "    text-align: left;\n",
       "  }\n",
       "</style><div class='table-result-container'><table class='table-result'><thead style='background-color: white'><tr><th>order_id</th><th>sale_date</th><th>order_cost</th><th>customer_id</th><th>seller_id</th></tr></thead><tbody><tr><td>1</td><td>2020-03-01</td><td>1500</td><td>101</td><td>1</td></tr><tr><td>2</td><td>2020-05-25</td><td>2400</td><td>102</td><td>2</td></tr><tr><td>3</td><td>2019-05-25</td><td>800</td><td>101</td><td>3</td></tr><tr><td>4</td><td>2020-09-13</td><td>1000</td><td>103</td><td>2</td></tr><tr><td>5</td><td>2019-02-11</td><td>700</td><td>101</td><td>2</td></tr></tbody></table></div>"
      ]
     },
     "metadata": {
      "application/vnd.databricks.v1+output": {
       "addedWidgets": {},
       "aggData": [],
       "aggError": "",
       "aggOverflow": false,
       "aggSchema": [],
       "aggSeriesLimitReached": false,
       "aggType": "",
       "arguments": {},
       "columnCustomDisplayInfos": {},
       "data": [
        [
         1,
         "2020-03-01",
         1500,
         101,
         1
        ],
        [
         2,
         "2020-05-25",
         2400,
         102,
         2
        ],
        [
         3,
         "2019-05-25",
         800,
         101,
         3
        ],
        [
         4,
         "2020-09-13",
         1000,
         103,
         2
        ],
        [
         5,
         "2019-02-11",
         700,
         101,
         2
        ]
       ],
       "datasetInfos": [],
       "dbfsResultPath": null,
       "isJsonSchema": true,
       "metadata": {},
       "overflow": false,
       "plotOptions": {
        "customPlotOptions": {},
        "displayType": "table",
        "pivotAggregation": null,
        "pivotColumns": null,
        "xColumns": null,
        "yColumns": null
       },
       "removedWidgets": [],
       "schema": [
        {
         "metadata": "{}",
         "name": "order_id",
         "type": "\"long\""
        },
        {
         "metadata": "{}",
         "name": "sale_date",
         "type": "\"string\""
        },
        {
         "metadata": "{}",
         "name": "order_cost",
         "type": "\"long\""
        },
        {
         "metadata": "{}",
         "name": "customer_id",
         "type": "\"long\""
        },
        {
         "metadata": "{}",
         "name": "seller_id",
         "type": "\"long\""
        }
       ],
       "type": "table"
      }
     },
     "output_type": "display_data"
    }
   ],
   "source": [
    "orders_df.display()"
   ]
  },
  {
   "cell_type": "code",
   "execution_count": 0,
   "metadata": {
    "application/vnd.databricks.v1+cell": {
     "cellMetadata": {
      "byteLimit": 2048000,
      "rowLimit": 10000
     },
     "inputWidgets": {},
     "nuid": "6f28197d-5db7-4c61-a07f-1c6999b199a4",
     "showTitle": false,
     "title": ""
    }
   },
   "outputs": [
    {
     "output_type": "display_data",
     "data": {
      "text/html": [
       "<style scoped>\n",
       "  .table-result-container {\n",
       "    max-height: 300px;\n",
       "    overflow: auto;\n",
       "  }\n",
       "  table, th, td {\n",
       "    border: 1px solid black;\n",
       "    border-collapse: collapse;\n",
       "  }\n",
       "  th, td {\n",
       "    padding: 5px;\n",
       "  }\n",
       "  th {\n",
       "    text-align: left;\n",
       "  }\n",
       "</style><div class='table-result-container'><table class='table-result'><thead style='background-color: white'><tr><th>seller_id</th><th>seller_name</th></tr></thead><tbody><tr><td>1</td><td>Daniel</td></tr><tr><td>2</td><td>Elizabeth</td></tr><tr><td>3</td><td>Frank</td></tr></tbody></table></div>"
      ]
     },
     "metadata": {
      "application/vnd.databricks.v1+output": {
       "addedWidgets": {},
       "aggData": [],
       "aggError": "",
       "aggOverflow": false,
       "aggSchema": [],
       "aggSeriesLimitReached": false,
       "aggType": "",
       "arguments": {},
       "columnCustomDisplayInfos": {},
       "data": [
        [
         1,
         "Daniel"
        ],
        [
         2,
         "Elizabeth"
        ],
        [
         3,
         "Frank"
        ]
       ],
       "datasetInfos": [],
       "dbfsResultPath": null,
       "isJsonSchema": true,
       "metadata": {},
       "overflow": false,
       "plotOptions": {
        "customPlotOptions": {},
        "displayType": "table",
        "pivotAggregation": null,
        "pivotColumns": null,
        "xColumns": null,
        "yColumns": null
       },
       "removedWidgets": [],
       "schema": [
        {
         "metadata": "{}",
         "name": "seller_id",
         "type": "\"long\""
        },
        {
         "metadata": "{}",
         "name": "seller_name",
         "type": "\"string\""
        }
       ],
       "type": "table"
      }
     },
     "output_type": "display_data"
    }
   ],
   "source": [
    "seller_df.display()"
   ]
  },
  {
   "cell_type": "markdown",
   "metadata": {
    "application/vnd.databricks.v1+cell": {
     "cellMetadata": {},
     "inputWidgets": {},
     "nuid": "a23289f9-3a99-475d-8d43-6c1a7bf28877",
     "showTitle": false,
     "title": ""
    }
   },
   "source": [
    "Report the names of all sellers who did not make any sales in 2020.\n",
    "\n",
    "Return the result table ordered by seller_name in ascending order.\n"
   ]
  },
  {
   "cell_type": "code",
   "execution_count": 0,
   "metadata": {
    "application/vnd.databricks.v1+cell": {
     "cellMetadata": {
      "byteLimit": 2048000,
      "rowLimit": 10000
     },
     "inputWidgets": {},
     "nuid": "d01d20ca-bdd3-4748-92b8-2ae60cd92633",
     "showTitle": false,
     "title": ""
    }
   },
   "outputs": [],
   "source": [
    "from pyspark.sql.functions import year"
   ]
  },
  {
   "cell_type": "code",
   "execution_count": 0,
   "metadata": {
    "application/vnd.databricks.v1+cell": {
     "cellMetadata": {
      "byteLimit": 2048000,
      "rowLimit": 10000
     },
     "inputWidgets": {},
     "nuid": "58c0597c-409a-4b15-b16c-8df18ec85294",
     "showTitle": false,
     "title": ""
    }
   },
   "outputs": [],
   "source": [
    "orders_df_2020 = orders_df.filter(year(orders_df[\"sale_date\"])==2020)"
   ]
  },
  {
   "cell_type": "code",
   "execution_count": 0,
   "metadata": {
    "application/vnd.databricks.v1+cell": {
     "cellMetadata": {
      "byteLimit": 2048000,
      "rowLimit": 10000
     },
     "inputWidgets": {},
     "nuid": "473ee882-7f42-47fa-a1d5-90cb87f76553",
     "showTitle": false,
     "title": ""
    }
   },
   "outputs": [],
   "source": [
    "# Get a list of seller_ids that had sales in 2020\n",
    "sellers_with_sales_2020 = orders_df_2020.select(\"seller_id\").distinct()"
   ]
  },
  {
   "cell_type": "code",
   "execution_count": 0,
   "metadata": {
    "application/vnd.databricks.v1+cell": {
     "cellMetadata": {
      "byteLimit": 2048000,
      "rowLimit": 10000
     },
     "inputWidgets": {},
     "nuid": "af4d12c6-a682-4da8-a5a0-b68b2c5be192",
     "showTitle": false,
     "title": ""
    }
   },
   "outputs": [],
   "source": [
    "sellers_not_in_2020 = seller_df.join(\n",
    "    sellers_with_sales_2020,\n",
    "    seller_df[\"seller_id\"] ==orders_df_2020[\"seller_id\"],\n",
    "    \"leftanti\"\n",
    ")"
   ]
  },
  {
   "cell_type": "code",
   "execution_count": 0,
   "metadata": {
    "application/vnd.databricks.v1+cell": {
     "cellMetadata": {
      "byteLimit": 2048000,
      "rowLimit": 10000
     },
     "inputWidgets": {},
     "nuid": "e8e57a11-b6c9-4c8c-86a6-e28f34a5fe0e",
     "showTitle": false,
     "title": ""
    }
   },
   "outputs": [
    {
     "output_type": "stream",
     "name": "stdout",
     "output_type": "stream",
     "text": [
      "+-----------+\n|seller_name|\n+-----------+\n|      Frank|\n+-----------+\n\n"
     ]
    }
   ],
   "source": [
    "# Select and order the seller names\n",
    "result = sellers_not_in_2020.select(\"seller_name\").orderBy(\"seller_name\")\n",
    "\n",
    "# Show the result\n",
    "result.show()"
   ]
  },
  {
   "cell_type": "code",
   "execution_count": 0,
   "metadata": {
    "application/vnd.databricks.v1+cell": {
     "cellMetadata": {
      "byteLimit": 2048000,
      "implicitDf": true,
      "rowLimit": 10000
     },
     "inputWidgets": {},
     "nuid": "f52ea254-8678-4585-8e54-d7c5ea906c2e",
     "showTitle": false,
     "title": ""
    }
   },
   "outputs": [],
   "source": [
    "# Register the DataFrames as temporary tables\n",
    "customer_df.createOrReplaceTempView(\"Customer\")\n",
    "orders_df.createOrReplaceTempView(\"Orders\")\n",
    "seller_df.createOrReplaceTempView(\"Seller\")"
   ]
  },
  {
   "cell_type": "code",
   "execution_count": 0,
   "metadata": {
    "application/vnd.databricks.v1+cell": {
     "cellMetadata": {
      "byteLimit": 2048000,
      "implicitDf": true,
      "rowLimit": 10000
     },
     "inputWidgets": {},
     "nuid": "10391097-a68a-4c04-baa9-92d7fc6ccee5",
     "showTitle": false,
     "title": ""
    }
   },
   "outputs": [
    {
     "output_type": "stream",
     "name": "stdout",
     "output_type": "stream",
     "text": [
      "+-----------+\n|seller_name|\n+-----------+\n|      Frank|\n+-----------+\n\n"
     ]
    }
   ],
   "source": [
    "\n",
    "query = \"\"\"\n",
    "SELECT seller_name\n",
    "FROM Seller\n",
    "WHERE seller_id NOT IN (\n",
    "    SELECT seller_id\n",
    "    FROM Orders\n",
    "    WHERE YEAR(sale_date) = 2020\n",
    ")\n",
    "ORDER BY seller_name ASC\n",
    "\"\"\"\n",
    "\n",
    "\n",
    "result = spark.sql(query)\n",
    "\n",
    "\n",
    "result.show()\n",
    "\n",
    "\n"
   ]
  },
  {
   "cell_type": "code",
   "execution_count": 0,
   "metadata": {
    "application/vnd.databricks.v1+cell": {
     "cellMetadata": {
      "byteLimit": 2048000,
      "implicitDf": true,
      "rowLimit": 10000
     },
     "inputWidgets": {},
     "nuid": "51b8b4d7-a8d8-4a84-afe1-ffabf2265a06",
     "showTitle": false,
     "title": ""
    }
   },
   "outputs": [
    {
     "output_type": "display_data",
     "data": {
      "text/html": [
       "<style scoped>\n",
       "  .table-result-container {\n",
       "    max-height: 300px;\n",
       "    overflow: auto;\n",
       "  }\n",
       "  table, th, td {\n",
       "    border: 1px solid black;\n",
       "    border-collapse: collapse;\n",
       "  }\n",
       "  th, td {\n",
       "    padding: 5px;\n",
       "  }\n",
       "  th {\n",
       "    text-align: left;\n",
       "  }\n",
       "</style><div class='table-result-container'><table class='table-result'><thead style='background-color: white'><tr><th>seller_name</th></tr></thead><tbody><tr><td>Frank</td></tr></tbody></table></div>"
      ]
     },
     "metadata": {
      "application/vnd.databricks.v1+output": {
       "addedWidgets": {},
       "aggData": [],
       "aggError": "",
       "aggOverflow": false,
       "aggSchema": [],
       "aggSeriesLimitReached": false,
       "aggType": "",
       "arguments": {},
       "columnCustomDisplayInfos": {},
       "data": [
        [
         "Frank"
        ]
       ],
       "datasetInfos": [],
       "dbfsResultPath": null,
       "isJsonSchema": true,
       "metadata": {},
       "overflow": false,
       "plotOptions": {
        "customPlotOptions": {},
        "displayType": "table",
        "pivotAggregation": null,
        "pivotColumns": null,
        "xColumns": null,
        "yColumns": null
       },
       "removedWidgets": [],
       "schema": [
        {
         "metadata": "{}",
         "name": "seller_name",
         "type": "\"string\""
        }
       ],
       "type": "table"
      }
     },
     "output_type": "display_data"
    }
   ],
   "source": [
    "%sql\n",
    "\n",
    "SELECT seller_name\n",
    "FROM Seller\n",
    "WHERE seller_id NOT IN (\n",
    "    SELECT seller_id\n",
    "    FROM Orders\n",
    "    WHERE YEAR(sale_date) = 2020\n",
    ")\n",
    "ORDER BY seller_name ASC"
   ]
  }
 ],
 "metadata": {
  "application/vnd.databricks.v1+notebook": {
   "dashboards": [],
   "language": "python",
   "notebookMetadata": {
    "mostRecentlyExecutedCommandWithImplicitDF": {
     "commandId": 1275532986782181,
     "dataframes": [
      "_sqldf"
     ]
    },
    "pythonIndentUnit": 4
   },
   "notebookName": "Sellers who did not make a sale Notebook 2023-09-07 22:45:30",
   "widgets": {}
  }
 },
 "nbformat": 4,
 "nbformat_minor": 0
}
